{
  "nbformat": 4,
  "nbformat_minor": 0,
  "metadata": {
    "colab": {
      "private_outputs": true,
      "provenance": [],
      "authorship_tag": "ABX9TyPtwfyqrMDGWywlT6sereVv",
      "include_colab_link": true
    },
    "kernelspec": {
      "name": "python3",
      "display_name": "Python 3"
    },
    "language_info": {
      "name": "python"
    }
  },
  "cells": [
    {
      "cell_type": "markdown",
      "metadata": {
        "id": "view-in-github",
        "colab_type": "text"
      },
      "source": [
        "<a href=\"https://colab.research.google.com/github/ryanmaclean/google-cloud-ai-demos/blob/main/datadog.ipynb\" target=\"_parent\"><img src=\"https://colab.research.google.com/assets/colab-badge.svg\" alt=\"Open In Colab\"/></a>"
      ]
    },
    {
      "cell_type": "code",
      "execution_count": null,
      "metadata": {
        "id": "-zAcfEo4nYSi"
      },
      "outputs": [],
      "source": [
        "# Install Datadog\n",
        "pip install ddtrace datadog"
      ]
    },
    {
      "cell_type": "markdown",
      "source": [
        "Now that Datadog is installed and running - we can then start instrutmenting our code as we send python code through a notebook."
      ],
      "metadata": {
        "id": "9iQpwMf4njsw"
      }
    },
    {
      "cell_type": "code",
      "source": [
        "from datadog import initialize, api\n",
        "\n",
        "options = {\n",
        "    \"api_key\": \"<YOUR_API_KEY>\",\n",
        "    \"app_key\": \"<YOUR_APP_KEY>\",\n",
        "}\n",
        "\n",
        "initialize(**options)\n",
        "\n",
        "title = \"Something big happened!\"\n",
        "text = \"And let me tell you all about it here!\"\n",
        "tags = [\"version:1\", \"application:web\"]\n",
        "\n",
        "api.Event.create(title=title, text=text, tags=tags)"
      ],
      "metadata": {
        "id": "XRbz9Wr0nzX7"
      },
      "execution_count": null,
      "outputs": []
    },
    {
      "cell_type": "markdown",
      "source": [
        "Response:\n",
        "\n",
        "```json\n",
        "{'status': 'ok',\n",
        " 'event': {'id': 7250989260647691182,\n",
        "  'id_str': '7250989260647691182',\n",
        "  'title': 'Something big happened!',\n",
        "  'text': 'And let me tell you all about it here!',\n",
        "  'date_happened': 1696455505,\n",
        "  'handle': None,\n",
        "  'priority': None,\n",
        "  'related_event_id': None,\n",
        "  'tags': ['version:1', 'application:web'],\n",
        "  'url': 'https://app.datadoghq.com/event/event?id=7250989260647691182'}\n",
        "}\n",
        "```"
      ],
      "metadata": {
        "id": "Nu0w2FHmoaq7"
      }
    }
  ]
}
